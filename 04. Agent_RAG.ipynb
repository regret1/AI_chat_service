{
  "cells": [
    {
      "cell_type": "markdown",
      "id": "d904ebb6",
      "metadata": {
        "id": "d904ebb6"
      },
      "source": [
        "### Agentic RAG\n",
        " : 질문에 따라 문서를 검색하여 답변(RAG)하거나, 인터넷 검색 도구(Tavily Search:)를 활용하여 답변하는 에이전트\n",
        "\n",
        "**참고**\n",
        "\n",
        "- **Agentic RAG**  : RAG 를 수행하되, Agent 를 활용하여 RAG 를 수행하는 에이전트\n",
        "\n",
        "LangChain에서는 에이전트가 여러 툴을 조합하여 복잡한 문제를 해결하는 능력을 가지고 있기 때문에, Tool은 에이전트가 활용할 수 있는 기능적 요소\n",
        "Agent 가 활용할 도구를 정의하여 Agent가 추론(reasoning)을 수행할 때 활용하도록 만들 수 있음\n",
        "\n",
        "-  **도구(Tools)** :특정 작업(계산, 검색, API 호출 등)을 수행하는 도구\n",
        "- **에이전트** : 사용자의 요청을 분석하고 적절한 툴을 사용하여 문제를 해결하는 주체\n"
      ]
    },
    {
      "cell_type": "markdown",
      "id": "27328084",
      "metadata": {
        "id": "27328084"
      },
      "source": [
        "### 웹 검색도구: SerpAPI\n",
        "- [SerpAPI API 발급받기](https://serpapi.com/)\n",
        "\n",
        "`.env`에 환경변수 등록\n",
        "\n",
        "- `SERPAPI_API_KEY=발급 받은 SerpAPI API KEY 입력`"
      ]
    },
    {
      "cell_type": "code",
      "execution_count": null,
      "id": "3e7a86d9",
      "metadata": {
        "collapsed": true,
        "id": "3e7a86d9"
      },
      "outputs": [],
      "source": [
        "# 필요한 패키지 설치\n",
        "!pip install -Uq python-dotenv langchain_teddynote langchain_openai langchain langchain-community faiss-cpu pypdf google-search-results"
      ]
    },
    {
      "cell_type": "code",
      "execution_count": null,
      "id": "c0bce178",
      "metadata": {
        "id": "c0bce178"
      },
      "outputs": [],
      "source": [
        "# API 키를 환경변수로 관리하기 위한 설정 파일\n",
        "from dotenv import load_dotenv\n",
        "\n",
        "# API 키 정보 로드\n",
        "load_dotenv(\"/content/.env\", override=True)"
      ]
    },
    {
      "cell_type": "markdown",
      "id": "2e659b03",
      "metadata": {
        "id": "2e659b03"
      },
      "source": [
        "`search.run` 함수는 주어진 문자열에 대한 검색을 실행\n",
        "\n",
        "`run()` 함수에 검색하고 싶은 검색어를 넣어 검색을 수행\n"
      ]
    },
    {
      "cell_type": "code",
      "execution_count": null,
      "id": "7d65db4b",
      "metadata": {
        "id": "7d65db4b"
      },
      "outputs": [],
      "source": [
        "from langchain_community.utilities import SerpAPIWrapper\n",
        "# 검색 결과\n",
        "search = SerpAPIWrapper()\n",
        "search.run(\"오늘 인천 날씨를 알려주세요\")"
      ]
    },
    {
      "cell_type": "code",
      "execution_count": 26,
      "id": "b49cb700",
      "metadata": {
        "id": "b49cb700"
      },
      "outputs": [],
      "source": [
        "from langchain_community.utilities import SerpAPIWrapper\n",
        "\n",
        "def search_web():\n",
        "    search = SerpAPIWrapper()\n",
        "\n",
        "    def run_with_source(query: str) -> str:\n",
        "        results = search.results(query)\n",
        "        organic = results.get(\"organic_results\", [])\n",
        "        formatted = []\n",
        "        for r in organic[:5]:\n",
        "            title = r.get(\"title\")\n",
        "            link = r.get(\"link\")\n",
        "            source = r.get(\"source\")\n",
        "            snippet = r.get(\"snippet\")  # ✅ snippet 추가\n",
        "            if link:\n",
        "                formatted.append(f\"- [{title}]({link}) ({source})\\n  {snippet}\")\n",
        "            else:\n",
        "                formatted.append(f\"- {title} (출처: {source})\\n  {snippet}\")\n",
        "        return \"\\n\".join(formatted) if formatted else \"검색 결과가 없습니다.\"\n",
        "\n",
        "    return Tool(\n",
        "        name=\"web_search\",\n",
        "        func=run_with_source,\n",
        "        description=\"실시간 뉴스 및 웹 정보를 검색할 때 사용합니다. 결과는 제목+출처+링크+간단요약(snippet) 형태로 반환됩니다.\"\n",
        "    )"
      ]
    },
    {
      "cell_type": "markdown",
      "id": "eb5d738f",
      "metadata": {
        "id": "eb5d738f"
      },
      "source": [
        "### 문서 기반 문서 검색 도구: Retriever\n",
        "\n",
        "내가 넣은 문서에 대해 조회를 수행할 retriever도 생성\n",
        "\n",
        "**실습에 활용한 문서**\n",
        "\n",
        "초보 투자자를 위한 증권과 투자 따라잡기.pdf"
      ]
    },
    {
      "cell_type": "code",
      "execution_count": 27,
      "id": "68f2a3c9",
      "metadata": {
        "id": "68f2a3c9"
      },
      "outputs": [],
      "source": [
        "from langchain.text_splitter import RecursiveCharacterTextSplitter\n",
        "from langchain_community.vectorstores import FAISS\n",
        "from langchain_openai import OpenAIEmbeddings\n",
        "from langchain.document_loaders import PyPDFLoader\n",
        "\n",
        "# PDF 파일 로드. 파일의 경로 입력\n",
        "loader = PyPDFLoader(\"/content/초보 투자자를 위한 증권과 투자 따라잡기.pdf\")\n",
        "\n",
        "# 텍스트 분할기를 사용하여 문서를 분할\n",
        "text_splitter = RecursiveCharacterTextSplitter(chunk_size=1000, chunk_overlap=100)\n",
        "\n",
        "# 문서를 로드하고 분할\n",
        "split_docs = loader.load_and_split(text_splitter)\n",
        "\n",
        "# VectorStore를 생성\n",
        "vector = FAISS.from_documents(split_docs, OpenAIEmbeddings())\n",
        "\n",
        "# Retriever를 생성\n",
        "retriever = vector.as_retriever()"
      ]
    },
    {
      "cell_type": "markdown",
      "id": "458a2b03",
      "metadata": {
        "id": "458a2b03"
      },
      "source": [
        " `retriever` 객체의 `invoke()` 를 사용하여 사용자의 질문에 대한 가장 **관련성 높은 문서** 를 찾는 데 사용\n"
      ]
    },
    {
      "cell_type": "code",
      "execution_count": null,
      "id": "2dab83e0",
      "metadata": {
        "id": "2dab83e0"
      },
      "outputs": [],
      "source": [
        "# 문서에서 관련성 높은 문서를 가져옴\n",
        "retriever.invoke(\"채권에 대한 개념을 알려줘.\")"
      ]
    },
    {
      "cell_type": "markdown",
      "id": "98528482",
      "metadata": {
        "id": "98528482"
      },
      "source": [
        "이제 우리가 검색을 수행할 인덱스를 채웠으므로, 이를 에이전트가 제대로 사용할 수 있는 도구로 쉽게 변환 가능\n"
      ]
    },
    {
      "cell_type": "markdown",
      "id": "6006cbc9",
      "metadata": {
        "id": "6006cbc9"
      },
      "source": [
        "`create_retriever_tool` 함수로 `retriever` 를 도구로 변환"
      ]
    },
    {
      "cell_type": "code",
      "execution_count": 29,
      "id": "683b1878",
      "metadata": {
        "id": "683b1878"
      },
      "outputs": [],
      "source": [
        "from langchain.tools.retriever import create_retriever_tool\n",
        "\n",
        "\n",
        "retriever_tool = create_retriever_tool(\n",
        "    retriever,\n",
        "    name=\"pdf_search\",  # 도구의 이름을 입력합니다.\n",
        "    description=\"use this tool to search information from the PDF document\",  # 도구에 대한 설명을 자세히 기입해야함!!\n",
        ")"
      ]
    },
    {
      "cell_type": "markdown",
      "id": "24519b31",
      "metadata": {
        "id": "24519b31"
      },
      "source": [
        "### Agent 가 사용할 도구 목록 정의\n",
        "\n",
        "Agent 가 사용할 도구 목록:  \n",
        "  \n",
        "`tools` 리스트는 `search`와 `retriever_tool`을 포함"
      ]
    },
    {
      "cell_type": "code",
      "execution_count": 30,
      "id": "1984dd66",
      "metadata": {
        "id": "1984dd66"
      },
      "outputs": [],
      "source": [
        "from langchain.agents import Tool\n",
        "# tools 리스트에 search와 retriever_tool을 추가합니다.\n",
        "tools = [search_web(), retriever_tool]"
      ]
    },
    {
      "cell_type": "markdown",
      "id": "e7891219",
      "metadata": {
        "id": "e7891219"
      },
      "source": [
        "#### Agent 생성\n",
        "\n",
        "Agent 가 활용할 LLM을 정의하고, Agent 가 참고할 Prompt 를 정의"
      ]
    },
    {
      "cell_type": "code",
      "execution_count": 31,
      "id": "f6e6cbfd",
      "metadata": {
        "id": "f6e6cbfd"
      },
      "outputs": [],
      "source": [
        "from langchain_openai import ChatOpenAI\n",
        "from langchain_core.prompts import ChatPromptTemplate\n",
        "\n",
        "# LLM 정의\n",
        "llm = ChatOpenAI(model=\"gpt-4o-mini\", temperature=0)\n",
        "\n",
        "# Prompt 정의\n",
        "prompt = ChatPromptTemplate.from_messages(\n",
        "    [\n",
        "        (\n",
        "            \"system\",\n",
        "            \"You are a helpful assistant. \"\n",
        "            \"Make sure to use the `pdf_search` tool for searching information from the PDF document. \"\n",
        "            \"If you can't find the information from the PDF document, use the `search` tool for searching information from the web.\",\n",
        "        ),\n",
        "        (\"placeholder\", \"{chat_history}\"),\n",
        "        (\"human\", \"{input}\"),\n",
        "        (\"placeholder\", \"{agent_scratchpad}\"),\n",
        "    ]\n",
        ")"
      ]
    },
    {
      "cell_type": "markdown",
      "id": "25a7a1d0",
      "metadata": {
        "id": "25a7a1d0"
      },
      "source": [
        "Tool Calling Agent 를 생성"
      ]
    },
    {
      "cell_type": "code",
      "execution_count": 32,
      "id": "ce2cdda8",
      "metadata": {
        "id": "ce2cdda8"
      },
      "outputs": [],
      "source": [
        "from langchain.agents import create_tool_calling_agent\n",
        "\n",
        "# tool calling agent 생성\n",
        "agent = create_tool_calling_agent(llm, tools, prompt)"
      ]
    },
    {
      "cell_type": "markdown",
      "id": "5592f1b3",
      "metadata": {
        "id": "5592f1b3"
      },
      "source": [
        "마지막으로, 생성한 `agent` 를 실행하는 `AgentExecutor` 를 생성\n",
        "- (참고)`verbose=False` 로 설정하여 중간 단계 출력을 생략"
      ]
    },
    {
      "cell_type": "code",
      "execution_count": 33,
      "id": "88bb3aab",
      "metadata": {
        "id": "88bb3aab"
      },
      "outputs": [],
      "source": [
        "from langchain.agents import AgentExecutor\n",
        "\n",
        "# AgentExecutor 생성\n",
        "agent_executor = AgentExecutor(agent=agent, tools=tools, verbose=False)"
      ]
    },
    {
      "cell_type": "markdown",
      "id": "614375b3",
      "metadata": {
        "id": "614375b3"
      },
      "source": [
        "#### 에이전트 실행하기\n",
        "\n",
        "현재 이러한 모든 질의는 **상태(Stateless) 가 없는** 질의 == 이전 상호작용을 기억하지 못함\n"
      ]
    },
    {
      "cell_type": "markdown",
      "id": "d8120a9e",
      "metadata": {
        "id": "d8120a9e"
      },
      "source": [
        "`agent_executor` 객체의 `invoke` 메소드는 딕셔너리 형태의 인자를 받아 처리"
      ]
    },
    {
      "cell_type": "code",
      "execution_count": 34,
      "id": "40529899",
      "metadata": {
        "id": "40529899"
      },
      "outputs": [],
      "source": [
        "from langchain_teddynote.messages import AgentStreamParser\n",
        "\n",
        "# 각 단계별 출력을 위한 파서 생성\n",
        "agent_stream_parser = AgentStreamParser()"
      ]
    },
    {
      "cell_type": "code",
      "execution_count": null,
      "id": "9cfbad15",
      "metadata": {
        "id": "9cfbad15"
      },
      "outputs": [],
      "source": [
        "result = agent_executor.stream(\n",
        "    {\"input\": \"2025년 넷플릭스 신작 알려주세요\"}\n",
        ")\n",
        "\n",
        "for step in result:\n",
        "    # 1. Agent가 선택한 도구(action) 출력\n",
        "    if \"actions\" in step:\n",
        "        for action in step[\"actions\"]:\n",
        "            print(f\"\\n[도구 호출] {action.tool}\")\n",
        "            tool_input = action.tool_input\n",
        "            if isinstance(tool_input, dict):\n",
        "                for k, v in tool_input.items():\n",
        "                    print(f\"  {k}: {v}\")\n",
        "            else:\n",
        "                print(f\"  입력값: {tool_input}\")\n",
        "\n",
        "    # 2. 도구 실행 결과(observation) 출력\n",
        "    if \"observations\" in step:\n",
        "        for obs in step[\"observations\"]:\n",
        "            print(f\"\\n[도구 응답] {obs}\")\n",
        "\n",
        "    # 3. 최종 출력 결과\n",
        "    if \"output\" in step:\n",
        "        print(\"\\n[최종 답변]\")\n",
        "        print(step[\"output\"])\n"
      ]
    },
    {
      "cell_type": "markdown",
      "id": "604b2a9c",
      "metadata": {
        "id": "604b2a9c"
      },
      "source": [
        "`agent_executor` 객체의 `invoke` 메소드를 사용하여, 질문을 입력으로 제공\n"
      ]
    },
    {
      "cell_type": "code",
      "execution_count": null,
      "id": "4a0582ab",
      "metadata": {
        "id": "4a0582ab"
      },
      "outputs": [],
      "source": [
        "# 질의에 대한 답변을 스트리밍으로 출력 요청\n",
        "result = agent_executor.stream(\n",
        "    {\"input\": \"선물과 주식에 대한 차이점을 문서에서 찾아주세요.\"}\n",
        ")\n",
        "\n",
        "for step in result:\n",
        "    # 중간 단계를 parser 를 사용하여 단계별로 출력\n",
        "    agent_stream_parser.process_agent_steps(step)"
      ]
    },
    {
      "cell_type": "markdown",
      "id": "6d836bd5",
      "metadata": {
        "id": "6d836bd5"
      },
      "source": [
        "## 이전 대화내용 기억하는 Agent\n",
        "\n",
        "`RunnableWithMessageHistory`: 이전의 대화내용을 기억하기 위해 사용  \n",
        "\n",
        "`AgentExecutor`를 `RunnableWithMessageHistory`로 감싸줌"
      ]
    },
    {
      "cell_type": "code",
      "execution_count": 37,
      "id": "39cc359c",
      "metadata": {
        "id": "39cc359c"
      },
      "outputs": [],
      "source": [
        "from langchain_community.chat_message_histories import ChatMessageHistory\n",
        "from langchain_core.runnables.history import RunnableWithMessageHistory\n",
        "\n",
        "# session_id 를 저장할 딕셔너리 생성\n",
        "store = {}\n",
        "\n",
        "\n",
        "# session_id 를 기반으로 세션 기록을 가져오는 함수\n",
        "def get_session_history(session_ids):\n",
        "    if session_ids not in store:  # session_id 가 store에 없는 경우\n",
        "        # 새로운 ChatMessageHistory 객체를 생성하여 store에 저장\n",
        "        store[session_ids] = ChatMessageHistory()\n",
        "    return store[session_ids]  # 해당 세션 ID에 대한 세션 기록 반환\n",
        "\n",
        "\n",
        "# 채팅 메시지 기록이 추가된 에이전트를 생성\n",
        "agent_with_chat_history = RunnableWithMessageHistory(\n",
        "    agent_executor,\n",
        "    # 대화 session_id\n",
        "    get_session_history,\n",
        "    # 프롬프트의 질문이 입력되는 key: \"input\"\n",
        "    input_messages_key=\"input\",\n",
        "    # 프롬프트의 메시지가 입력되는 key: \"chat_history\"\n",
        "    history_messages_key=\"chat_history\",\n",
        ")"
      ]
    },
    {
      "cell_type": "code",
      "execution_count": null,
      "id": "697c803f",
      "metadata": {
        "id": "697c803f"
      },
      "outputs": [],
      "source": [
        "# 질의에 대한 답변을 스트리밍으로 출력 요청\n",
        "response = agent_with_chat_history.stream(\n",
        "    {\"input\": \"선물과 주식에 대한 차이점을 문서에서 찾아주세요.\"},\n",
        "    # session_id 설정\n",
        "    config={\"configurable\": {\"session_id\": \"abc123\"}},\n",
        ")\n",
        "\n",
        "# 출력 확인\n",
        "for step in response:\n",
        "    agent_stream_parser.process_agent_steps(step)"
      ]
    },
    {
      "cell_type": "code",
      "execution_count": null,
      "id": "7d96ac8e",
      "metadata": {
        "id": "7d96ac8e"
      },
      "outputs": [],
      "source": [
        "response = agent_with_chat_history.stream(\n",
        "    {\"input\": \"이전의 답변을 영어로 번역해 주세요.\"},\n",
        "    # session_id 설정\n",
        "    config={\"configurable\": {\"session_id\": \"abc123\"}},\n",
        ")\n",
        "\n",
        "# 출력 확인\n",
        "for step in response:\n",
        "    agent_stream_parser.process_agent_steps(step)"
      ]
    },
    {
      "cell_type": "markdown",
      "id": "a1970203",
      "metadata": {
        "id": "a1970203"
      },
      "source": [
        "## Agent 템플릿"
      ]
    },
    {
      "cell_type": "code",
      "execution_count": null,
      "id": "783c7c79",
      "metadata": {
        "id": "783c7c79"
      },
      "outputs": [],
      "source": [
        "# PyMuPDF : 텍스트, 이미지, 주석, 레이아웃 등 PDF의 모든 요소 처리 가능한 패키지\n",
        "! pip install PyMuPDF"
      ]
    },
    {
      "cell_type": "code",
      "execution_count": 43,
      "id": "4d261a21",
      "metadata": {
        "id": "4d261a21"
      },
      "outputs": [],
      "source": [
        "# 필요한 모듈 import\n",
        "from langchain_core.prompts import ChatPromptTemplate\n",
        "from langchain_community.tools.tavily_search import TavilySearchResults\n",
        "from langchain_community.vectorstores import FAISS\n",
        "from langchain_community.chat_message_histories import ChatMessageHistory\n",
        "from langchain.text_splitter import RecursiveCharacterTextSplitter\n",
        "from langchain_openai import OpenAIEmbeddings, ChatOpenAI\n",
        "from langchain.document_loaders import PyMuPDFLoader\n",
        "from langchain.tools.retriever import create_retriever_tool\n",
        "from langchain.agents import create_tool_calling_agent, AgentExecutor\n",
        "from langchain_core.runnables.history import RunnableWithMessageHistory\n",
        "from langchain_teddynote.messages import AgentStreamParser\n",
        "\n",
        "########## 1. 도구를 정의 ##########\n",
        "\n",
        "### 1-1. Search 도구 ###\n",
        "def search_web():\n",
        "    search = SerpAPIWrapper()\n",
        "\n",
        "    def run_with_source(query: str) -> str:\n",
        "        results = search.results(query)\n",
        "        organic = results.get(\"organic_results\", [])\n",
        "        formatted = []\n",
        "        for r in organic[:5]:\n",
        "            title = r.get(\"title\")\n",
        "            link = r.get(\"link\")\n",
        "            source = r.get(\"source\")\n",
        "            snippet = r.get(\"snippet\")  # ✅ snippet 추가\n",
        "            if link:\n",
        "                formatted.append(f\"- [{title}]({link}) ({source})\\n  {snippet}\")\n",
        "            else:\n",
        "                formatted.append(f\"- {title} (출처: {source})\\n  {snippet}\")\n",
        "        return \"\\n\".join(formatted) if formatted else \"검색 결과가 없습니다.\"\n",
        "\n",
        "    return Tool(\n",
        "        name=\"web_search\",\n",
        "        func=run_with_source,\n",
        "        description=\"실시간 뉴스 및 웹 정보를 검색할 때 사용합니다. 결과는 제목+출처+링크+간단요약(snippet) 형태로 반환됩니다.\"\n",
        "    )\n",
        "\n",
        "### 1-2. PDF 문서 검색 도구 (Retriever) ###\n",
        "# PDF 파일 로드. 파일의 경로 입력\n",
        "loader = PyMuPDFLoader(\"/content/초보 투자자를 위한 증권과 투자 따라잡기.pdf\")\n",
        "\n",
        "# 텍스트 분할기를 사용하여 문서를 분할\n",
        "text_splitter = RecursiveCharacterTextSplitter(chunk_size=1000, chunk_overlap=100)\n",
        "\n",
        "# 문서를 로드하고 분할\n",
        "split_docs = loader.load_and_split(text_splitter)\n",
        "\n",
        "# VectorStore를 생성\n",
        "vector = FAISS.from_documents(split_docs, OpenAIEmbeddings())\n",
        "\n",
        "# Retriever를 생성\n",
        "retriever = vector.as_retriever()\n",
        "\n",
        "\n",
        "retriever_tool = create_retriever_tool(\n",
        "    retriever,\n",
        "    name=\"pdf_search\",  # 도구의 이름을 입력\n",
        "    description=\"use this tool to search information from the PDF document\",  # 도구에 대한 설명을 자세히 기입해야 합니다!!\n",
        ")\n",
        "\n",
        "### 1-3. tools 리스트에 도구 목록을 추가 ###\n",
        "# tools 리스트에 search와 retriever_tool을 추가\n",
        "tools = [search_web(), retriever_tool]\n",
        "\n",
        "########## 2. LLM 을 정의  ##########\n",
        "# LLM 모델을 생성\n",
        "llm = ChatOpenAI(model=\"gpt-4o\", temperature=0)\n",
        "\n",
        "########## 3. Prompt 를 정의##########\n",
        "\n",
        "# Prompt 정의\n",
        "prompt = ChatPromptTemplate.from_messages(\n",
        "    [\n",
        "        (\n",
        "            \"system\",\n",
        "            \"You are a helpful assistant. \"\n",
        "            \"Make sure to use the `pdf_search` tool for searching information from the PDF document. \"\n",
        "            \"If you can't find the information from the PDF document, use the `search` tool for searching information from the web.\",\n",
        "        ),\n",
        "        (\"placeholder\", \"{chat_history}\"),\n",
        "        (\"human\", \"{input}\"),\n",
        "        (\"placeholder\", \"{agent_scratchpad}\"),\n",
        "    ]\n",
        ")\n",
        "\n",
        "########## 4. Agent 를 정의 ##########\n",
        "\n",
        "# 에이전트를 생성\n",
        "# llm, tools, prompt를 인자로 사용\n",
        "agent = create_tool_calling_agent(llm, tools, prompt)\n",
        "\n",
        "########## 5. AgentExecutor 를 정의 ##########\n",
        "\n",
        "# AgentExecutor 클래스를 사용하여 agent와 tools를 설정하고, 상세한 로그를 출력하도록 verbose를 True로 설정\n",
        "agent_executor = AgentExecutor(agent=agent, tools=tools, verbose=False)\n",
        "\n",
        "########## 6. 채팅 기록을 수행하는 메모리를 추가 ##########\n",
        "\n",
        "# session_id 를 저장할 딕셔너리 생성\n",
        "store = {}\n",
        "\n",
        "\n",
        "# session_id 를 기반으로 세션 기록을 가져오는 함수\n",
        "def get_session_history(session_ids):\n",
        "    if session_ids not in store:  # session_id 가 store에 없는 경우\n",
        "        # 새로운 ChatMessageHistory 객체를 생성하여 store에 저장\n",
        "        store[session_ids] = ChatMessageHistory()\n",
        "    return store[session_ids]  # 해당 세션 ID에 대한 세션 기록 반환\n",
        "\n",
        "\n",
        "# 채팅 메시지 기록이 추가된 에이전트를 생성\n",
        "agent_with_chat_history = RunnableWithMessageHistory(\n",
        "    agent_executor,\n",
        "    # 대화 session_id\n",
        "    get_session_history,\n",
        "    # 프롬프트의 질문이 입력되는 key: \"input\"\n",
        "    input_messages_key=\"input\",\n",
        "    # 프롬프트의 메시지가 입력되는 key: \"chat_history\"\n",
        "    history_messages_key=\"chat_history\",\n",
        ")\n",
        "\n",
        "########## 7. Agent 파서를 정의합니다. ##########\n",
        "agent_stream_parser = AgentStreamParser()"
      ]
    },
    {
      "cell_type": "code",
      "execution_count": null,
      "id": "3e2666f0",
      "metadata": {
        "id": "3e2666f0"
      },
      "outputs": [],
      "source": [
        "########## 8. 에이전트를 실행하고 결과를 확인합니다. ##########\n",
        "\n",
        "# 질의에 대한 답변을 출력합니다.\n",
        "response = agent_with_chat_history.stream(\n",
        "    {\"input\":  \"국내 증권 시장의 역사를 문서에서 찾아서 추천해줘.\"},\n",
        "    # 세션 ID를 설정\n",
        "    # 여기서는 간단한 메모리 내 ChatMessageHistory를 사용하기 때문에 실제로 사용되지 않음\n",
        "    config={\"configurable\": {\"session_id\": \"abc123\"}},\n",
        ")\n",
        "\n",
        "for step in response:\n",
        "    agent_stream_parser.process_agent_steps(step)"
      ]
    },
    {
      "cell_type": "code",
      "execution_count": null,
      "id": "bc28b7c4",
      "metadata": {
        "id": "bc28b7c4"
      },
      "outputs": [],
      "source": [
        "########## 8. 에이전트를 실행하고 결과를 확인합니다. ##########\n",
        "\n",
        "# 질의에 대한 답변을 출력합니다.\n",
        "response = agent_with_chat_history.stream(\n",
        "    {\"input\": \"이전의 답변을 영어로 번역해 주세요\"},\n",
        "    # 세션 ID를 설정\n",
        "    # 여기서는 간단한 메모리 내 ChatMessageHistory를 사용하기 때문에 실제로 사용되지 않음\n",
        "    config={\"configurable\": {\"session_id\": \"abc123\"}},\n",
        ")\n",
        "\n",
        "for step in response:\n",
        "    agent_stream_parser.process_agent_steps(step)"
      ]
    },
    {
      "cell_type": "code",
      "execution_count": null,
      "id": "54697845",
      "metadata": {
        "id": "54697845"
      },
      "outputs": [],
      "source": [
        "########## 8. 에이전트를 실행하고 결과를 확인합니다. ##########\n",
        "\n",
        "# 질의에 대한 답변을 출력합니다.\n",
        "response = agent_with_chat_history.stream(\n",
        "    {\n",
        "        \"input\": \"넷플릭스 TV 프로그램 흑백요리사 최종 우승자를 알려주세요. 한글로 답변하세요\"\n",
        "    },\n",
        "    # 세션 ID를 설정\n",
        "    # 여기서는 간단한 메모리 내 ChatMessageHistory를 사용하기 때문에 실제로 사용되지 않음\n",
        "    config={\"configurable\": {\"session_id\": \"abc456\"}},\n",
        ")\n",
        "\n",
        "for step in response:\n",
        "    # 1. Agent가 선택한 도구(action) 출력\n",
        "    if \"actions\" in step:\n",
        "        for action in step[\"actions\"]:\n",
        "            print(f\"\\n[도구 호출] {action.tool}\")\n",
        "            tool_input = action.tool_input\n",
        "            if isinstance(tool_input, dict):\n",
        "                for k, v in tool_input.items():\n",
        "                    print(f\"  {k}: {v}\")\n",
        "            else:\n",
        "                print(f\"  입력값: {tool_input}\")\n",
        "\n",
        "    # 2. 도구 실행 결과(observation) 출력\n",
        "    if \"observations\" in step:\n",
        "        for obs in step[\"observations\"]:\n",
        "            print(f\"\\n[도구 응답] {obs}\")\n",
        "\n",
        "    # 3. 최종 출력 결과\n",
        "    if \"output\" in step:\n",
        "        print(\"\\n[최종 답변]\")\n",
        "        print(step[\"output\"])"
      ]
    },
    {
      "cell_type": "code",
      "execution_count": null,
      "id": "7e3d1607",
      "metadata": {
        "id": "7e3d1607"
      },
      "outputs": [],
      "source": [
        "########## 8. 에이전트를 실행하고 결과를 확인합니다. ##########\n",
        "\n",
        "# 질의에 대한 답변을 출력합니다.\n",
        "response = agent_with_chat_history.stream(\n",
        "    {\"input\": \"이전의 답변을 SNS 게시글 형태로 100자 내외로 작성하세요.\"},\n",
        "    # 세션 ID를 설정\n",
        "    # 여기서는 간단한 메모리 내 ChatMessageHistory를 사용하기 때문에 실제로 사용되지 않음\n",
        "    config={\"configurable\": {\"session_id\": \"abc456\"}},\n",
        ")\n",
        "\n",
        "for step in response:\n",
        "    agent_stream_parser.process_agent_steps(step)"
      ]
    },
    {
      "cell_type": "code",
      "execution_count": null,
      "id": "72d99d59",
      "metadata": {
        "id": "72d99d59"
      },
      "outputs": [],
      "source": [
        "########## 8. 에이전트를 실행하고 결과를 확인합니다. ##########\n",
        "\n",
        "# 질의에 대한 답변을 출력합니다.\n",
        "response = agent_with_chat_history.stream(\n",
        "    {\"input\": \"이전의 답변에 우승자의 소감도 찾아줘.\"},\n",
        "    # 세션 ID를 설정\n",
        "    # 여기서는 간단한 메모리 내 ChatMessageHistory를 사용하기 때문에 실제로 사용되지 않음\n",
        "    config={\"configurable\": {\"session_id\": \"abc456\"}},\n",
        ")\n",
        "\n",
        "for step in response:\n",
        "    # 1. Agent가 선택한 도구(action) 출력\n",
        "    if \"actions\" in step:\n",
        "        for action in step[\"actions\"]:\n",
        "            print(f\"\\n[도구 호출] {action.tool}\")\n",
        "            tool_input = action.tool_input\n",
        "            if isinstance(tool_input, dict):\n",
        "                for k, v in tool_input.items():\n",
        "                    print(f\"  {k}: {v}\")\n",
        "            else:\n",
        "                print(f\"  입력값: {tool_input}\")\n",
        "\n",
        "    # 2. 도구 실행 결과(observation) 출력\n",
        "    if \"observations\" in step:\n",
        "        for obs in step[\"observations\"]:\n",
        "            print(f\"\\n[도구 응답] {obs}\")\n",
        "\n",
        "    # 3. 최종 출력 결과\n",
        "    if \"output\" in step:\n",
        "        print(\"\\n[최종 답변]\")\n",
        "        print(step[\"output\"])"
      ]
    },
    {
      "cell_type": "markdown",
      "id": "2e14407b",
      "metadata": {
        "id": "2e14407b"
      },
      "source": [
        "#### [실습] PDF를 활용한 RAG + 실시간 웹 검색을 활용한 챗봇 구축\n",
        " - 자유주제 가능\n",
        "  \n",
        " - (예시) 요리 레시피 검색 및 추천 에이전트  \n",
        "    목표: PDF로 제공된 요리책에서 원하는 레시피를 검색하고, 찾을 수 없으면 웹에서 정보를 검색해 추천 요리법을 제공하는 시스템을 구축\n",
        "    \n",
        " - (예시) 여행 정보 검색 및 추천 에이전트  \n",
        "   목표: PDF 문서로 제공된 여행 가이드북에서 특정 목적지에 대한 정보를 검색하고, 부족한 정보는 웹에서 검색해 종합적인 여행 계획을 제시하는 시스템을 구축\n",
        "\n",
        " - (예시) 논문 검색 및 관련 연구 서베이 에이전트\n",
        "   목표: 공모전 혹은 프로젝트에 사용할 딥러닝 모델을 논문 RAG 문서로 활용하여, 논문 질의 응답을 받은 후 부족한 정보다 비교 모델을 웹에서 검색해 사용할 모델들을 정리해주는 시스템을 구축"
      ]
    },
    {
      "cell_type": "code",
      "execution_count": null,
      "id": "9da5cf2c",
      "metadata": {
        "id": "9da5cf2c"
      },
      "outputs": [],
      "source": [
        "# 필요한 모듈 import\n",
        "from langchain_core.prompts import ChatPromptTemplate\n",
        "from langchain_community.tools.tavily_search import TavilySearchResults\n",
        "from langchain_community.vectorstores import FAISS\n",
        "from langchain_community.chat_message_histories import ChatMessageHistory\n",
        "from langchain.text_splitter import RecursiveCharacterTextSplitter\n",
        "from langchain_openai import OpenAIEmbeddings, ChatOpenAI\n",
        "from langchain.document_loaders import PyMuPDFLoader\n",
        "from langchain.tools.retriever import create_retriever_tool\n",
        "from langchain.agents import create_tool_calling_agent, AgentExecutor\n",
        "from langchain_core.runnables.history import RunnableWithMessageHistory\n",
        "from langchain_teddynote.messages import AgentStreamParser\n",
        "\n",
        "########## 1. 도구를 정의 ##########\n",
        "### 1-1. Search 도구 ###\n",
        "def search_web():\n",
        "    search = SerpAPIWrapper()\n",
        "\n",
        "    def run_with_source(query: str) -> str:\n",
        "        results = search.results(query)\n",
        "        organic = results.get(\"organic_results\", [])\n",
        "        formatted = []\n",
        "        for r in organic[:5]:\n",
        "            title = r.get(\"title\")\n",
        "            link = r.get(\"link\")\n",
        "            source = r.get(\"source\")\n",
        "            snippet = r.get(\"snippet\")  # ✅ snippet 추가\n",
        "            if link:\n",
        "                formatted.append(f\"- [{title}]({link}) ({source})\\n  {snippet}\")\n",
        "            else:\n",
        "                formatted.append(f\"- {title} (출처: {source})\\n  {snippet}\")\n",
        "        return \"\\n\".join(formatted) if formatted else \"검색 결과가 없습니다.\"\n",
        "\n",
        "    return Tool(\n",
        "        name=\"web_search\",\n",
        "        func=run_with_source,\n",
        "        description=\"실시간 뉴스 및 웹 정보를 검색할 때 사용합니다. 결과는 제목+출처+링크+간단요약(snippet) 형태로 반환됩니다.\"\n",
        "    )\n",
        "\n",
        "### 1-2. PDF 문서 검색 도구 (Retriever) ###\n",
        "# PDF 파일 로드. 파일의 경로 입력\n",
        "loader = PyMuPDFLoader(\"./----.pdf\")\n",
        "\n",
        "# 텍스트 분할기를 사용하여 문서를 분할\n",
        "text_splitter = RecursiveCharacterTextSplitter(chunk_size=1000, chunk_overlap=100)\n",
        "\n",
        "# 문서를 로드하고 분할\n",
        "split_docs = loader.load_and_split(text_splitter)\n",
        "\n",
        "# VectorStore를 생성\n",
        "vector = FAISS.from_documents(split_docs, OpenAIEmbeddings())\n",
        "\n",
        "# Retriever를 생성\n",
        "retriever = vector.as_retriever()\n",
        "\n",
        "\n",
        "retriever_tool = create_retriever_tool(\n",
        "    retriever,\n",
        "    name=\"pdf_search\",  # 도구의 이름을 입력\n",
        "    description=\"use this tool to search information from the PDF document\",  # 도구에 대한 설명을 자세히 기입해야 합니다!!\n",
        ")\n",
        "\n",
        "### 1-3. tools 리스트에 도구 목록을 추가 ###\n",
        "# tools 리스트에 search와 retriever_tool을 추가\n",
        "tools = [search_web(), retriever_tool]\n",
        "\n",
        "########## 2. LLM 을 정의  ##########\n",
        "# LLM 모델을 생성\n",
        "llm = ChatOpenAI(model=\"gpt-4o\", temperature=0)\n",
        "\n",
        "########## 3. Prompt 를 정의##########\n",
        "\n",
        "# Prompt 정의\n",
        "prompt = ChatPromptTemplate.from_messages(\n",
        "    [\n",
        "        (\n",
        "            \"system\",\n",
        "            \"You are a helpful assistant. \"\n",
        "            \"Make sure to use the `pdf_search` tool for searching information from the PDF document. \"\n",
        "            \"If you can't find the information from the PDF document, use the `search` tool for searching information from the web.\",\n",
        "        ),\n",
        "        (\"placeholder\", \"{chat_history}\"),\n",
        "        (\"human\", \"{input}\"),\n",
        "        (\"placeholder\", \"{agent_scratchpad}\"),\n",
        "    ]\n",
        ")\n",
        "\n",
        "########## 4. Agent 를 정의 ##########\n",
        "\n",
        "# 에이전트를 생성\n",
        "# llm, tools, prompt를 인자로 사용\n",
        "agent = create_tool_calling_agent(llm, tools, prompt)\n",
        "\n",
        "########## 5. AgentExecutor 를 정의 ##########\n",
        "\n",
        "# AgentExecutor 클래스를 사용하여 agent와 tools를 설정하고, 상세한 로그를 출력하도록 verbose를 True로 설정\n",
        "agent_executor = AgentExecutor(agent=agent, tools=tools, verbose=False)\n",
        "\n",
        "########## 6. 채팅 기록을 수행하는 메모리를 추가 ##########\n",
        "\n",
        "# session_id 를 저장할 딕셔너리 생성\n",
        "store = {}\n",
        "\n",
        "\n",
        "# session_id 를 기반으로 세션 기록을 가져오는 함수\n",
        "def get_session_history(session_ids):\n",
        "    if session_ids not in store:  # session_id 가 store에 없는 경우\n",
        "        # 새로운 ChatMessageHistory 객체를 생성하여 store에 저장\n",
        "        store[session_ids] = ChatMessageHistory()\n",
        "    return store[session_ids]  # 해당 세션 ID에 대한 세션 기록 반환\n",
        "\n",
        "\n",
        "# 채팅 메시지 기록이 추가된 에이전트를 생성\n",
        "agent_with_chat_history = RunnableWithMessageHistory(\n",
        "    agent_executor,\n",
        "    # 대화 session_id\n",
        "    get_session_history,\n",
        "    # 프롬프트의 질문이 입력되는 key: \"input\"\n",
        "    input_messages_key=\"input\",\n",
        "    # 프롬프트의 메시지가 입력되는 key: \"chat_history\"\n",
        "    history_messages_key=\"chat_history\",\n",
        ")\n",
        "\n",
        "########## 7. Agent 파서를 정의합니다. ##########\n",
        "agent_stream_parser = AgentStreamParser()"
      ]
    }
  ],
  "metadata": {
    "kernelspec": {
      "display_name": "Python 3",
      "language": "python",
      "name": "python3"
    },
    "language_info": {
      "codemirror_mode": {
        "name": "ipython",
        "version": 3
      },
      "file_extension": ".py",
      "mimetype": "text/x-python",
      "name": "python",
      "nbconvert_exporter": "python",
      "pygments_lexer": "ipython3",
      "version": "3.12.6"
    },
    "colab": {
      "provenance": []
    }
  },
  "nbformat": 4,
  "nbformat_minor": 5
}